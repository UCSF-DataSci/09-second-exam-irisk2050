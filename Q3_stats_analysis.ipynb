{
 "cells": [
  {
   "cell_type": "code",
   "execution_count": 1,
   "metadata": {},
   "outputs": [
    {
     "name": "stdout",
     "output_type": "stream",
     "text": [
      "Requirement already satisfied: statsmodels in /usr/local/python/3.12.1/lib/python3.12/site-packages (0.14.4)\n",
      "Requirement already satisfied: numpy<3,>=1.22.3 in /home/codespace/.local/lib/python3.12/site-packages (from statsmodels) (2.1.1)\n",
      "Requirement already satisfied: scipy!=1.9.2,>=1.8 in /home/codespace/.local/lib/python3.12/site-packages (from statsmodels) (1.14.1)\n",
      "Requirement already satisfied: pandas!=2.1.0,>=1.4 in /home/codespace/.local/lib/python3.12/site-packages (from statsmodels) (2.2.3)\n",
      "Requirement already satisfied: patsy>=0.5.6 in /usr/local/python/3.12.1/lib/python3.12/site-packages (from statsmodels) (1.0.1)\n",
      "Requirement already satisfied: packaging>=21.3 in /home/codespace/.local/lib/python3.12/site-packages (from statsmodels) (24.1)\n",
      "Requirement already satisfied: python-dateutil>=2.8.2 in /home/codespace/.local/lib/python3.12/site-packages (from pandas!=2.1.0,>=1.4->statsmodels) (2.9.0.post0)\n",
      "Requirement already satisfied: pytz>=2020.1 in /home/codespace/.local/lib/python3.12/site-packages (from pandas!=2.1.0,>=1.4->statsmodels) (2024.2)\n",
      "Requirement already satisfied: tzdata>=2022.7 in /home/codespace/.local/lib/python3.12/site-packages (from pandas!=2.1.0,>=1.4->statsmodels) (2024.2)\n",
      "Requirement already satisfied: six>=1.5 in /home/codespace/.local/lib/python3.12/site-packages (from python-dateutil>=2.8.2->pandas!=2.1.0,>=1.4->statsmodels) (1.16.0)\n",
      "\n",
      "\u001b[1m[\u001b[0m\u001b[34;49mnotice\u001b[0m\u001b[1;39;49m]\u001b[0m\u001b[39;49m A new release of pip is available: \u001b[0m\u001b[31;49m24.2\u001b[0m\u001b[39;49m -> \u001b[0m\u001b[32;49m24.3.1\u001b[0m\n",
      "\u001b[1m[\u001b[0m\u001b[34;49mnotice\u001b[0m\u001b[1;39;49m]\u001b[0m\u001b[39;49m To update, run: \u001b[0m\u001b[32;49mpython -m pip install --upgrade pip\u001b[0m\n",
      "Note: you may need to restart the kernel to use updated packages.\n"
     ]
    }
   ],
   "source": [
    "pip install statsmodels"
   ]
  },
  {
   "cell_type": "code",
   "execution_count": 2,
   "metadata": {},
   "outputs": [],
   "source": [
    "import scipy.stats as stats\n",
    "import statsmodels.api as sm\n",
    "import statsmodels.formula.api as smf\n",
    "import os\n",
    "import pandas as pd\n",
    "import numpy as np\n",
    "import matplotlib.pyplot as plt\n",
    "import seaborn as sns"
   ]
  },
  {
   "cell_type": "code",
   "execution_count": 3,
   "metadata": {},
   "outputs": [
    {
     "data": {
      "text/html": [
       "<div>\n",
       "<style scoped>\n",
       "    .dataframe tbody tr th:only-of-type {\n",
       "        vertical-align: middle;\n",
       "    }\n",
       "\n",
       "    .dataframe tbody tr th {\n",
       "        vertical-align: top;\n",
       "    }\n",
       "\n",
       "    .dataframe thead th {\n",
       "        text-align: right;\n",
       "    }\n",
       "</style>\n",
       "<table border=\"1\" class=\"dataframe\">\n",
       "  <thead>\n",
       "    <tr style=\"text-align: right;\">\n",
       "      <th></th>\n",
       "      <th>patient_id</th>\n",
       "      <th>visit_date</th>\n",
       "      <th>age</th>\n",
       "      <th>education_level</th>\n",
       "      <th>walking_speed</th>\n",
       "      <th>insurance_type</th>\n",
       "      <th>visit_cost</th>\n",
       "      <th>season</th>\n",
       "    </tr>\n",
       "  </thead>\n",
       "  <tbody>\n",
       "    <tr>\n",
       "      <th>0</th>\n",
       "      <td>P0001</td>\n",
       "      <td>2020-01-23</td>\n",
       "      <td>34.28</td>\n",
       "      <td>Bachelors</td>\n",
       "      <td>4.40</td>\n",
       "      <td>Private</td>\n",
       "      <td>53.95</td>\n",
       "      <td>Winter</td>\n",
       "    </tr>\n",
       "    <tr>\n",
       "      <th>1</th>\n",
       "      <td>P0001</td>\n",
       "      <td>2020-04-16</td>\n",
       "      <td>34.51</td>\n",
       "      <td>Bachelors</td>\n",
       "      <td>4.19</td>\n",
       "      <td>Private</td>\n",
       "      <td>50.70</td>\n",
       "      <td>Spring</td>\n",
       "    </tr>\n",
       "    <tr>\n",
       "      <th>2</th>\n",
       "      <td>P0001</td>\n",
       "      <td>2020-07-03</td>\n",
       "      <td>34.72</td>\n",
       "      <td>Bachelors</td>\n",
       "      <td>4.71</td>\n",
       "      <td>Private</td>\n",
       "      <td>46.20</td>\n",
       "      <td>Summer</td>\n",
       "    </tr>\n",
       "    <tr>\n",
       "      <th>3</th>\n",
       "      <td>P0001</td>\n",
       "      <td>2020-10-15</td>\n",
       "      <td>35.00</td>\n",
       "      <td>Bachelors</td>\n",
       "      <td>4.86</td>\n",
       "      <td>Private</td>\n",
       "      <td>56.30</td>\n",
       "      <td>Fall</td>\n",
       "    </tr>\n",
       "    <tr>\n",
       "      <th>4</th>\n",
       "      <td>P0001</td>\n",
       "      <td>2020-12-29</td>\n",
       "      <td>35.21</td>\n",
       "      <td>Bachelors</td>\n",
       "      <td>4.50</td>\n",
       "      <td>Private</td>\n",
       "      <td>53.70</td>\n",
       "      <td>Winter</td>\n",
       "    </tr>\n",
       "  </tbody>\n",
       "</table>\n",
       "</div>"
      ],
      "text/plain": [
       "  patient_id visit_date    age education_level  walking_speed insurance_type  \\\n",
       "0      P0001 2020-01-23  34.28       Bachelors           4.40        Private   \n",
       "1      P0001 2020-04-16  34.51       Bachelors           4.19        Private   \n",
       "2      P0001 2020-07-03  34.72       Bachelors           4.71        Private   \n",
       "3      P0001 2020-10-15  35.00       Bachelors           4.86        Private   \n",
       "4      P0001 2020-12-29  35.21       Bachelors           4.50        Private   \n",
       "\n",
       "   visit_cost  season  \n",
       "0       53.95  Winter  \n",
       "1       50.70  Spring  \n",
       "2       46.20  Summer  \n",
       "3       56.30    Fall  \n",
       "4       53.70  Winter  "
      ]
     },
     "execution_count": 3,
     "metadata": {},
     "output_type": "execute_result"
    }
   ],
   "source": [
    "# Set random seed.\n",
    "np.random.seed(42)\n",
    "\n",
    "# Read the processed CSV file.\n",
    "df = pd.read_csv(\"ms_data.csv\")\n",
    "\n",
    "# Convert visit_date to datetime.\n",
    "df['visit_date'] = pd.to_datetime(df['visit_date'])\n",
    "\n",
    "#  Sort by patient_id and visit_date.\n",
    "df = df.sort_values(by = ['patient_id', 'visit_date'])\n",
    "\n",
    "# Read insurance types from `insurance.lst`.\n",
    "with open('insurance.lst', 'r') as f:\n",
    "    insurance_types = [line.strip() for line in f.readlines()]\n",
    "\n",
    "# Randomly assign (but keep consistent per patient_id).\n",
    "unique_patients = df['patient_id'].unique()\n",
    "patient_insurance_map = {patient_id: np.random.choice(insurance_types) for patient_id in unique_patients}\n",
    "df['insurance_type'] = df['patient_id'].map(patient_insurance_map)\n",
    "\n",
    "# Generate visit costs based on insurance type. Different plans have different effects on cost.\n",
    "base_costs = {'Medicare': 100,\n",
    "    'Medicaid': 200,\n",
    "    'Private': 50,\n",
    "    'Other': 500\n",
    "}\n",
    "\n",
    "# Add random variation.\n",
    "variation_factor = 0.2 # 20% variation\n",
    "df['visit_cost'] = df['insurance_type'].map(base_costs) * (1 + np.random.uniform(-variation_factor, variation_factor, len(df))).round(3)\n",
    "\n",
    "# Set appropriate data types.\n",
    "df['patient_id'] = df['patient_id'].astype(str)\n",
    "df['education_level'] = df['education_level'].astype(str)\n",
    "df['insurance_type'] = df['insurance_type'].astype(str)\n",
    "\n",
    "# Spring: March, April, May (months 3, 4, 5)\n",
    "# Summer: June, July, August (months 6, 7, 8)\n",
    "# Fall: September, October, November (months 9, 10, 11)\n",
    "# Winter: December, January, February (months 12, 1, 2)\n",
    "\n",
    "# Add a 'season' column based on the month of the visit_date\n",
    "def get_season(month):\n",
    "    if month in [3, 4, 5]:\n",
    "        return 'Spring'\n",
    "    elif month in [6, 7, 8]:\n",
    "        return 'Summer'\n",
    "    elif month in [9, 10, 11]:\n",
    "        return 'Fall'\n",
    "    else:\n",
    "        return 'Winter'\n",
    "\n",
    "# Apply the get_season function to the 'visit_date' to categorize the season\n",
    "df['season'] = df['visit_date'].dt.month.apply(get_season)\n",
    "\n",
    "df.head()"
   ]
  },
  {
   "cell_type": "code",
   "execution_count": 5,
   "metadata": {},
   "outputs": [
    {
     "name": "stdout",
     "output_type": "stream",
     "text": [
      "Number of duplicate rows: 0\n",
      "Rows with repeated patient_id and visit_date pairs:\n",
      "Empty DataFrame\n",
      "Columns: [patient_id, visit_date, age, education_level, walking_speed, insurance_type, visit_cost, season]\n",
      "Index: []\n"
     ]
    }
   ],
   "source": [
    "# Check for duplicate rows\n",
    "num_duplicates = df.duplicated().sum()\n",
    "print(f\"Number of duplicate rows: {num_duplicates}\")\n",
    "\n",
    "# View rows where pairs of patient_id and visit_date are repeated\n",
    "duplicates = df[df.duplicated(subset=['patient_id', 'visit_date'], keep=False)]\n",
    "print(\"Rows with repeated patient_id and visit_date pairs:\")\n",
    "print(duplicates)"
   ]
  },
  {
   "cell_type": "code",
   "execution_count": 6,
   "metadata": {},
   "outputs": [
    {
     "name": "stdout",
     "output_type": "stream",
     "text": [
      "patient_id                 object\n",
      "visit_date         datetime64[ns]\n",
      "age                       float64\n",
      "education_level            object\n",
      "walking_speed             float64\n",
      "insurance_type             object\n",
      "visit_cost                float64\n",
      "season                     object\n",
      "dtype: object\n",
      "Number of missing values in each column: patient_id         0\n",
      "visit_date         0\n",
      "age                0\n",
      "education_level    0\n",
      "walking_speed      0\n",
      "insurance_type     0\n",
      "visit_cost         0\n",
      "season             0\n",
      "dtype: int64\n",
      "Number of rows with at least one missing value: 0\n"
     ]
    }
   ],
   "source": [
    "df['visit_date'] = pd.to_datetime(df['visit_date'])\n",
    "df['patient_id'] = df['patient_id'].astype(str)\n",
    "df['education_level'] = df['education_level'].astype(str)\n",
    "df['age'] = df['age'].astype(float)\n",
    "df['walking_speed'] = df['walking_speed'].astype(float)\n",
    "df['visit_cost'] = df['visit_cost'].astype(float)\n",
    "df['season'] = df['season'].astype(str)\n",
    "print(df.dtypes)\n",
    "\n",
    "print(f\"Number of missing values in each column: {df.isnull().sum()}\")\n",
    "print(f\"Number of rows with at least one missing value: {df.isnull().any(axis=1).sum()}\")"
   ]
  },
  {
   "cell_type": "code",
   "execution_count": 9,
   "metadata": {},
   "outputs": [
    {
     "data": {
      "image/png": "[encoded data removed]",
      "text/plain": [
       "<Figure size 1200x600 with 1 Axes>"
      ]
     },
     "metadata": {},
     "output_type": "display_data"
    }
   ],
   "source": [
    "# Check for outliers\n",
    "plt.figure(figsize=(12, 6))\n",
    "sns.boxplot(data=df[['age', 'walking_speed', 'visit_cost']])\n",
    "plt.title('Boxplot for Outlier Detection')\n",
    "plt.show()\n",
    "\n",
    "# remove outliers based on Z-score\n",
    "z_scores = np.abs(stats.zscore(df.select_dtypes(include=[np.number])))\n",
    "df = df[(z_scores < 2.5).all(axis=1)]"
   ]
  },
  {
   "cell_type": "markdown",
   "metadata": {},
   "source": [
    "# Q3.1"
   ]
  },
  {
   "cell_type": "code",
   "execution_count": 10,
   "metadata": {},
   "outputs": [
    {
     "name": "stdout",
     "output_type": "stream",
     "text": [
      "                            OLS Regression Results                            \n",
      "==============================================================================\n",
      "Dep. Variable:          walking_speed   R-squared:                       0.806\n",
      "Model:                            OLS   Adj. R-squared:                  0.806\n",
      "Method:                 Least Squares   F-statistic:                 2.051e+04\n",
      "Date:                Thu, 14 Nov 2024   Prob (F-statistic):               0.00\n",
      "Time:                        16:58:14   Log-Likelihood:                -5297.6\n",
      "No. Observations:               15385   AIC:                         1.061e+04\n",
      "Df Residuals:                   15380   BIC:                         1.064e+04\n",
      "Df Model:                           4                                         \n",
      "Covariance Type:              cluster                                         \n",
      "================================================================================\n",
      "                   coef    std err          t      P>|t|      [0.025      0.975]\n",
      "--------------------------------------------------------------------------------\n",
      "const            5.5896      0.008    692.059      0.000       5.574       5.605\n",
      "Graduate         0.4065      0.007     58.886      0.000       0.393       0.420\n",
      "High School     -0.7922      0.007   -117.708      0.000      -0.805      -0.779\n",
      "Some College    -0.3901      0.007    -57.440      0.000      -0.403      -0.377\n",
      "age             -0.0300      0.000   -217.974      0.000      -0.030      -0.030\n",
      "==============================================================================\n",
      "Omnibus:                        8.908   Durbin-Watson:                   1.870\n",
      "Prob(Omnibus):                  0.012   Jarque-Bera (JB):                8.083\n",
      "Skew:                           0.004   Prob(JB):                       0.0176\n",
      "Kurtosis:                       2.888   Cond. No.                         238.\n",
      "==============================================================================\n",
      "\n",
      "Notes:\n",
      "[1] Standard Errors are robust to cluster correlation (cluster)\n"
     ]
    }
   ],
   "source": [
    "# 1. Analyze walking speed:\n",
    "#    - Multiple regression with education and age (report coeffcients and confidence intervals)\n",
    "#    - Account for repeated measures\n",
    "#    - Test for significant trends\n",
    "\n",
    "# Prepare the data as before\n",
    "X = df[['age']]\n",
    "X = pd.get_dummies(df['education_level'], drop_first=True).join(X)  # Convert education_level to dummy variables\n",
    "X = sm.add_constant(X)  # Add intercept\n",
    "\n",
    "y = df['walking_speed']\n",
    "\n",
    "# Ensure that X and y are purely numeric arrays\n",
    "X = X.astype(float) \n",
    "y = y.astype(float)\n",
    "\n",
    "# Fit the OLS model\n",
    "model = sm.OLS(y, X).fit()\n",
    "\n",
    "# Clustered standard errors by patient_id\n",
    "clustered_se = model.get_robustcov_results(cov_type='cluster', groups=df['patient_id'])\n",
    "\n",
    "# Display the summary with clustered standard errors\n",
    "print(clustered_se.summary())\n",
    "\n",
    "# Clustered Standard Errors: The cov_type='cluster' argument in get_robustcov_results accounts for the fact that there are repeated measurements for each subject. The groups=df['id'] argument specifies that the clustering should be done by the subject identifier (id).\n",
    "\n",
    "# Interpretation: The coefficients remain the same, but now the standard errors are adjusted for the repeated measurements, which leads to more accurate statistical tests (e.g., p-values)."
   ]
  },
  {
   "cell_type": "code",
   "execution_count": 11,
   "metadata": {},
   "outputs": [
    {
     "name": "stdout",
     "output_type": "stream",
     "text": [
      "[ 5.58958787  0.4065063  -0.79216137 -0.39007949 -0.02995534]\n",
      "[0.0000e+000 0.0000e+000 0.0000e+000 8.0944e-319 0.0000e+000]\n",
      "[[ 5.57373854  5.60543721]\n",
      " [ 0.39295982  0.42005277]\n",
      " [-0.80536769 -0.77895505]\n",
      " [-0.40340592 -0.37675307]\n",
      " [-0.03022502 -0.02968567]]\n",
      "0.8057315007682553\n",
      "0.8057820125985288\n"
     ]
    }
   ],
   "source": [
    "print(clustered_se.params) # Coefficients \n",
    "print(clustered_se.pvalues) # P-values\n",
    "print(clustered_se.conf_int()) # Confidence Intervals\n",
    "print(clustered_se.rsquared_adj)\n",
    "print(clustered_se.rsquared)"
   ]
  },
  {
   "cell_type": "code",
   "execution_count": 12,
   "metadata": {},
   "outputs": [
    {
     "name": "stdout",
     "output_type": "stream",
     "text": [
      "                            OLS Regression Results                            \n",
      "==============================================================================\n",
      "Dep. Variable:          walking_speed   R-squared:                       0.806\n",
      "Model:                            OLS   Adj. R-squared:                  0.806\n",
      "Method:                 Least Squares   F-statistic:                 1.202e+04\n",
      "Date:                Thu, 14 Nov 2024   Prob (F-statistic):               0.00\n",
      "Time:                        17:01:25   Log-Likelihood:                -5296.2\n",
      "No. Observations:               15385   AIC:                         1.061e+04\n",
      "Df Residuals:                   15377   BIC:                         1.067e+04\n",
      "Df Model:                           7                                         \n",
      "Covariance Type:              cluster                                         \n",
      "====================================================================================\n",
      "                       coef    std err          t      P>|t|      [0.025      0.975]\n",
      "------------------------------------------------------------------------------------\n",
      "const                5.5594      0.024    233.732      0.000       5.513       5.606\n",
      "Graduate             0.4058      0.007     58.748      0.000       0.392       0.419\n",
      "High School         -0.7770      0.018    -42.110      0.000      -0.813      -0.741\n",
      "Some College        -0.3651      0.018    -20.004      0.000      -0.401      -0.329\n",
      "age                 -0.0288      0.001    -30.181      0.000      -0.031      -0.027\n",
      "age_High School     -0.0003      0.000     -0.916      0.360      -0.001       0.000\n",
      "age_Some College    -0.0005      0.000     -1.488      0.137      -0.001       0.000\n",
      "age_age          -8.817e-06   8.92e-06     -0.988      0.323   -2.63e-05    8.69e-06\n",
      "==============================================================================\n",
      "Omnibus:                        8.782   Durbin-Watson:                   1.870\n",
      "Prob(Omnibus):                  0.012   Jarque-Bera (JB):                7.972\n",
      "Skew:                           0.003   Prob(JB):                       0.0186\n",
      "Kurtosis:                       2.889   Cond. No.                     3.62e+04\n",
      "==============================================================================\n",
      "\n",
      "Notes:\n",
      "[1] Standard Errors are robust to cluster correlation (cluster)\n",
      "[2] The condition number is large, 3.62e+04. This might indicate that there are\n",
      "strong multicollinearity or other numerical problems.\n"
     ]
    }
   ],
   "source": [
    "# Test for trends.\n",
    "# Manually added interaction terms between age and education_level.\n",
    "# Creating new columns for each level of education.\n",
    "\n",
    "# Convert 'education_level' into dummy variables\n",
    "X_education = pd.get_dummies(df['education_level'], drop_first=True)\n",
    "\n",
    "# Add 'age' as a predictor\n",
    "X_education = X_education.join(df[['age']])\n",
    "\n",
    "# Create interaction terms between 'age' and each education level\n",
    "for level in X_education.columns[1:]:  # Skip the constant (first column)\n",
    "    X_education[f'age_{level}'] = X_education['age'] * X_education[level]\n",
    "\n",
    "# Add constant term\n",
    "X_education = sm.add_constant(X_education)\n",
    "\n",
    "# Ensure X and y are numeric\n",
    "X_education = X_education.astype(float)\n",
    "\n",
    "# Fit the OLS model\n",
    "model_education = sm.OLS(y, X_education).fit()\n",
    "\n",
    "clustered_se2 = model_education.get_robustcov_results(cov_type='cluster', groups=df['patient_id'])\n",
    "\n",
    "# Display the model summary\n",
    "print(clustered_se2.summary())"
   ]
  },
  {
   "cell_type": "code",
   "execution_count": 13,
   "metadata": {},
   "outputs": [
    {
     "name": "stdout",
     "output_type": "stream",
     "text": [
      "                            OLS Regression Results                            \n",
      "==============================================================================\n",
      "Dep. Variable:          walking_speed   R-squared:                       0.509\n",
      "Model:                            OLS   Adj. R-squared:                  0.509\n",
      "Method:                 Least Squares   F-statistic:                     441.3\n",
      "Date:                Thu, 14 Nov 2024   Prob (F-statistic):          1.74e-300\n",
      "Time:                        17:01:59   Log-Likelihood:                -12436.\n",
      "No. Observations:               15385   AIC:                         2.489e+04\n",
      "Df Residuals:                   15377   BIC:                         2.495e+04\n",
      "Df Model:                           7                                         \n",
      "Covariance Type:              cluster                                         \n",
      "==============================================================================\n",
      "                 coef    std err          t      P>|t|      [0.025      0.975]\n",
      "------------------------------------------------------------------------------\n",
      "const          5.5782      0.118     47.303      0.000       5.347       5.810\n",
      "Spring        -0.2672      0.008    -33.012      0.000      -0.283      -0.251\n",
      "Summer        -0.0642      0.021     -2.991      0.003      -0.106      -0.022\n",
      "Winter        -0.2114      0.022     -9.512      0.000      -0.255      -0.168\n",
      "age           -0.0315      0.005     -6.369      0.000      -0.041      -0.022\n",
      "age_Summer     0.0004      0.000      1.187      0.235      -0.000       0.001\n",
      "age_Winter    -0.0002      0.000     -0.492      0.623      -0.001       0.001\n",
      "age_age     1.136e-05   4.74e-05      0.240      0.811   -8.17e-05       0.000\n",
      "==============================================================================\n",
      "Omnibus:                      466.012   Durbin-Watson:                   0.733\n",
      "Prob(Omnibus):                  0.000   Jarque-Bera (JB):              221.005\n",
      "Skew:                          -0.003   Prob(JB):                     1.02e-48\n",
      "Kurtosis:                       2.413   Cond. No.                     3.71e+04\n",
      "==============================================================================\n",
      "\n",
      "Notes:\n",
      "[1] Standard Errors are robust to cluster correlation (cluster)\n",
      "[2] The condition number is large, 3.71e+04. This might indicate that there are\n",
      "strong multicollinearity or other numerical problems.\n"
     ]
    }
   ],
   "source": [
    "X_season = pd.get_dummies(df['season'], drop_first=True)\n",
    "\n",
    "# Add 'age' as a predictor\n",
    "X_season = X_season.join(df[['age']])\n",
    "\n",
    "# Create interaction terms between 'age' and each season\n",
    "for level in X_season.columns[1:]:  # Skip the constant (first column)\n",
    "    X_season[f'age_{level}'] = X_season['age'] * X_season[level]\n",
    "\n",
    "# Add constant term\n",
    "X_season = sm.add_constant(X_season)\n",
    "\n",
    "# Ensure X and y are numeric\n",
    "X_season = X_season.astype(float)\n",
    "\n",
    "# Fit the OLS model\n",
    "model_season = sm.OLS(y, X_season).fit()\n",
    "\n",
    "clustered_se3 = model_season.get_robustcov_results(cov_type='cluster', groups=df['patient_id'])\n",
    "\n",
    "# Display the model summary\n",
    "print(clustered_se3.summary())"
   ]
  },
  {
   "cell_type": "markdown",
   "metadata": {},
   "source": [
    "# Q3.2"
   ]
  },
  {
   "cell_type": "code",
   "execution_count": 14,
   "metadata": {},
   "outputs": [
    {
     "name": "stdout",
     "output_type": "stream",
     "text": [
      "                            OLS Regression Results                            \n",
      "==============================================================================\n",
      "Dep. Variable:             visit_cost   R-squared:                       0.967\n",
      "Model:                            OLS   Adj. R-squared:                  0.967\n",
      "Method:                 Least Squares   F-statistic:                 1.507e+05\n",
      "Date:                Thu, 14 Nov 2024   Prob (F-statistic):               0.00\n",
      "Time:                        17:02:08   Log-Likelihood:                -75665.\n",
      "No. Observations:               15385   AIC:                         1.513e+05\n",
      "Df Residuals:                   15381   BIC:                         1.514e+05\n",
      "Df Model:                           3                                         \n",
      "Covariance Type:              cluster                                         \n",
      "==============================================================================\n",
      "                 coef    std err          t      P>|t|      [0.025      0.975]\n",
      "------------------------------------------------------------------------------\n",
      "const        199.0164      0.401    496.868      0.000     198.230     199.802\n",
      "Medicare     -99.0970      0.439   -225.568      0.000     -99.959     -98.235\n",
      "Other        300.0079      0.906    331.277      0.000     298.231     301.785\n",
      "Private     -148.9485      0.412   -361.413      0.000    -149.757    -148.140\n",
      "==============================================================================\n",
      "Omnibus:                      620.671   Durbin-Watson:                   1.997\n",
      "Prob(Omnibus):                  0.000   Jarque-Bera (JB):             2005.495\n",
      "Skew:                           0.011   Prob(JB):                         0.00\n",
      "Kurtosis:                       4.769   Cond. No.                         4.99\n",
      "==============================================================================\n",
      "\n",
      "Notes:\n",
      "[1] Standard Errors are robust to cluster correlation (cluster)\n"
     ]
    }
   ],
   "source": [
    "# 2. Analyze costs:\n",
    "#    - Simple analysis of insurance type effect\n",
    "#    - Box plots and basic statistics (report coeffcients and confidence intervals)\n",
    "#    - Calculate effect sizes\n",
    "\n",
    "# Convert insurance_type into dummy variables (one-hot encoding)\n",
    "X = pd.get_dummies(df['insurance_type'], drop_first=True)\n",
    "\n",
    "# Add 'visit_cost' as dependent variable\n",
    "y = df['visit_cost']\n",
    "\n",
    "# Add a constant to the model for intercept\n",
    "X = sm.add_constant(X)\n",
    "\n",
    "X = X.astype(float) \n",
    "y = y.astype(float)\n",
    "\n",
    "# Fit the OLS model\n",
    "model = sm.OLS(y, X).fit()\n",
    "\n",
    "model_clustered = model.get_robustcov_results(cov_type='cluster', groups=df['patient_id'])\n",
    "\n",
    "# Display the summary of the regression\n",
    "print(model_clustered.summary())\n"
   ]
  },
  {
   "cell_type": "code",
   "execution_count": 15,
   "metadata": {},
   "outputs": [
    {
     "name": "stdout",
     "output_type": "stream",
     "text": [
      "[ 199.01642512  -99.09698836  300.00785795 -148.94851488]\n",
      "[0. 0. 0. 0.]\n",
      "[[ 198.23042527  199.80242497]\n",
      " [ -99.9590882   -98.23488852]\n",
      " [ 298.23074157  301.78497434]\n",
      " [-149.75725234 -148.13977742]]\n",
      "0.967296907846321\n",
      "0.9673032852043854\n"
     ]
    }
   ],
   "source": [
    "print(model_clustered.params) # Coefficients \n",
    "print(model_clustered.pvalues) # P-values\n",
    "print(model_clustered.conf_int()) # Confidence Intervals\n",
    "print(model_clustered.rsquared_adj)\n",
    "print(model_clustered.rsquared)"
   ]
  },
  {
   "cell_type": "code",
   "execution_count": 17,
   "metadata": {},
   "outputs": [
    {
     "data": {
      "image/png": "[encoded data removed]",
      "text/plain": [
       "<Figure size 1000x600 with 1 Axes>"
      ]
     },
     "metadata": {},
     "output_type": "display_data"
    },
    {
     "name": "stdout",
     "output_type": "stream",
     "text": [
      "                 count        mean        std    min    25%     50%      75%  \\\n",
      "insurance_type                                                                 \n",
      "Medicaid        3519.0  199.016425  22.999023  160.0  179.0  198.40  219.000   \n",
      "Medicare        3977.0   99.919437  11.589422   80.0   90.0   99.60  110.300   \n",
      "Other           4324.0  499.024283  57.575972  400.0  449.5  499.50  548.125   \n",
      "Private         3565.0   50.067910   5.773130   40.0   45.0   50.05   55.100   \n",
      "\n",
      "                  max  \n",
      "insurance_type         \n",
      "Medicaid        240.0  \n",
      "Medicare        120.0  \n",
      "Other           600.0  \n",
      "Private          60.0  \n"
     ]
    }
   ],
   "source": [
    "# Box plots to visualize the distribution of visit_cost by insurance type\n",
    "plt.figure(figsize=(10, 6))\n",
    "sns.boxplot(x='insurance_type', y='visit_cost', data=df)\n",
    "plt.title('Visit Cost by Insurance Type')\n",
    "plt.xlabel('Insurance Type')\n",
    "plt.ylabel('Visit Cost')\n",
    "plt.xticks(rotation=45)\n",
    "plt.show()\n",
    "\n",
    "# Basic statistics for visit_cost by insurance type\n",
    "statistics = df.groupby('insurance_type')['visit_cost'].describe()\n",
    "print(statistics)"
   ]
  },
  {
   "cell_type": "code",
   "execution_count": 18,
   "metadata": {},
   "outputs": [
    {
     "name": "stdout",
     "output_type": "stream",
     "text": [
      "Eta Squared: 0.9673032852043854\n"
     ]
    }
   ],
   "source": [
    "# Perform one-way ANOVA to check if visit_cost differs across insurance types\n",
    "anova_result = stats.f_oneway(*(df[df['insurance_type'] == group]['visit_cost'] for group in df['insurance_type'].unique()))\n",
    "\n",
    "# Calculate eta squared for effect size\n",
    "n = len(df)\n",
    "k = len(df['insurance_type'].unique())\n",
    "ss_total = np.sum((df['visit_cost'] - np.mean(df['visit_cost']))**2)\n",
    "ss_between = np.sum([(len(group) * (np.mean(group) - np.mean(df['visit_cost']))**2) for group in [df[df['insurance_type'] == group]['visit_cost'] for group in df['insurance_type'].unique()]])\n",
    "eta_squared = ss_between / ss_total\n",
    "\n",
    "print(f\"Eta Squared: {eta_squared}\")\n"
   ]
  },
  {
   "cell_type": "markdown",
   "metadata": {},
   "source": [
    "# Q3.3"
   ]
  },
  {
   "cell_type": "code",
   "execution_count": 19,
   "metadata": {},
   "outputs": [
    {
     "name": "stdout",
     "output_type": "stream",
     "text": [
      "                            OLS Regression Results                            \n",
      "==============================================================================\n",
      "Dep. Variable:          walking_speed   R-squared:                       0.806\n",
      "Model:                            OLS   Adj. R-squared:                  0.806\n",
      "Method:                 Least Squares   F-statistic:                 1.276e+04\n",
      "Date:                Thu, 14 Nov 2024   Prob (F-statistic):               0.00\n",
      "Time:                        17:04:33   Log-Likelihood:                -5297.3\n",
      "No. Observations:               15385   AIC:                         1.061e+04\n",
      "Df Residuals:                   15379   BIC:                         1.065e+04\n",
      "Df Model:                           5                                         \n",
      "Covariance Type:            nonrobust                                         \n",
      "======================================================================================================\n",
      "                                         coef    std err          t      P>|t|      [0.025      0.975]\n",
      "------------------------------------------------------------------------------------------------------\n",
      "Intercept                              5.5826      0.013    418.870      0.000       5.556       5.609\n",
      "C(education_level)[T.Graduate]         0.4113      0.010     40.769      0.000       0.391       0.431\n",
      "C(education_level)[T.High School]     -0.7823      0.015    -50.562      0.000      -0.813      -0.752\n",
      "C(education_level)[T.Some College]    -0.3753      0.022    -17.377      0.000      -0.418      -0.333\n",
      "age                                   -0.0298      0.000   -120.750      0.000      -0.030      -0.029\n",
      "age_education_interaction            -9.8e-05      0.000     -0.734      0.463      -0.000       0.000\n",
      "==============================================================================\n",
      "Omnibus:                        8.856   Durbin-Watson:                   1.870\n",
      "Prob(Omnibus):                  0.012   Jarque-Bera (JB):                8.038\n",
      "Skew:                           0.004   Prob(JB):                       0.0180\n",
      "Kurtosis:                       2.888   Cond. No.                     1.17e+03\n",
      "==============================================================================\n",
      "\n",
      "Notes:\n",
      "[1] Standard Errors assume that the covariance matrix of the errors is correctly specified.\n",
      "[2] The condition number is large, 1.17e+03. This might indicate that there are\n",
      "strong multicollinearity or other numerical problems.\n",
      "\n",
      "Key Statistics:\n",
      "R-squared: 0.8057888073555143\n",
      "Adjusted R-squared: 0.80572566567119\n",
      "\n",
      "P-values:\n",
      "Intercept                             0.000000e+00\n",
      "C(education_level)[T.Graduate]        0.000000e+00\n",
      "C(education_level)[T.High School]     0.000000e+00\n",
      "C(education_level)[T.Some College]    5.352315e-67\n",
      "age                                   0.000000e+00\n",
      "age_education_interaction             4.632505e-01\n",
      "dtype: float64\n",
      "\n",
      "Confidence Intervals:\n",
      "                                           0         1\n",
      "Intercept                           5.556443  5.608691\n",
      "C(education_level)[T.Graduate]      0.391496  0.431042\n",
      "C(education_level)[T.High School]  -0.812660 -0.752003\n",
      "C(education_level)[T.Some College] -0.417588 -0.332931\n",
      "age                                -0.030298 -0.029330\n",
      "age_education_interaction          -0.000360  0.000164\n"
     ]
    }
   ],
   "source": [
    "# 3. Advanced analysis:\n",
    "#    - Education age interaction effects on walking speed\n",
    "#    - Control for relevant confounders\n",
    "#    - Report key statistics and p-values (report coeffcients and confidence intervals)\n",
    "\n",
    "# Create interaction term between age and education_level\n",
    "df['age_education_interaction'] = df['age'] * df['education_level'].astype('category').cat.codes\n",
    "\n",
    "# Fit the model using statsmodels\n",
    "model = smf.ols('walking_speed ~ age + C(education_level) + age_education_interaction', data=df).fit()\n",
    "\n",
    "# Print summary of the model\n",
    "print(model.summary())\n",
    "\n",
    "# Extract key statistics, p-values, and confidence intervals\n",
    "print(\"\\nKey Statistics:\")\n",
    "print(\"R-squared:\", model.rsquared)\n",
    "print(\"Adjusted R-squared:\", model.rsquared_adj)\n",
    "print(\"\\nP-values:\")\n",
    "print(model.pvalues)\n",
    "print(\"\\nConfidence Intervals:\")\n",
    "print(model.conf_int())\n"
   ]
  }
 ],
 "metadata": {
  "kernelspec": {
   "display_name": "Python 3",
   "language": "python",
   "name": "python3"
  },
  "language_info": {
   "codemirror_mode": {
    "name": "ipython",
    "version": 3
   },
   "file_extension": ".py",
   "mimetype": "text/x-python",
   "name": "python",
   "nbconvert_exporter": "python",
   "pygments_lexer": "ipython3",
   "version": "3.12.1"
  }
 },
 "nbformat": 4,
 "nbformat_minor": 2
}
