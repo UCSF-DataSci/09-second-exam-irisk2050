{
 "cells": [
  {
   "cell_type": "code",
   "execution_count": 43,
   "metadata": {},
   "outputs": [
    {
     "name": "stdout",
     "output_type": "stream",
     "text": [
      "Requirement already satisfied: statsmodels in /usr/local/python/3.12.1/lib/python3.12/site-packages (0.14.4)\n",
      "Requirement already satisfied: numpy<3,>=1.22.3 in /home/codespace/.local/lib/python3.12/site-packages (from statsmodels) (2.1.1)\n",
      "Requirement already satisfied: scipy!=1.9.2,>=1.8 in /home/codespace/.local/lib/python3.12/site-packages (from statsmodels) (1.14.1)\n",
      "Requirement already satisfied: pandas!=2.1.0,>=1.4 in /home/codespace/.local/lib/python3.12/site-packages (from statsmodels) (2.2.3)\n",
      "Requirement already satisfied: patsy>=0.5.6 in /usr/local/python/3.12.1/lib/python3.12/site-packages (from statsmodels) (1.0.1)\n",
      "Requirement already satisfied: packaging>=21.3 in /home/codespace/.local/lib/python3.12/site-packages (from statsmodels) (24.1)\n",
      "Requirement already satisfied: python-dateutil>=2.8.2 in /home/codespace/.local/lib/python3.12/site-packages (from pandas!=2.1.0,>=1.4->statsmodels) (2.9.0.post0)\n",
      "Requirement already satisfied: pytz>=2020.1 in /home/codespace/.local/lib/python3.12/site-packages (from pandas!=2.1.0,>=1.4->statsmodels) (2024.2)\n",
      "Requirement already satisfied: tzdata>=2022.7 in /home/codespace/.local/lib/python3.12/site-packages (from pandas!=2.1.0,>=1.4->statsmodels) (2024.2)\n",
      "Requirement already satisfied: six>=1.5 in /home/codespace/.local/lib/python3.12/site-packages (from python-dateutil>=2.8.2->pandas!=2.1.0,>=1.4->statsmodels) (1.16.0)\n",
      "\n",
      "\u001b[1m[\u001b[0m\u001b[34;49mnotice\u001b[0m\u001b[1;39;49m]\u001b[0m\u001b[39;49m A new release of pip is available: \u001b[0m\u001b[31;49m24.2\u001b[0m\u001b[39;49m -> \u001b[0m\u001b[32;49m24.3.1\u001b[0m\n",
      "\u001b[1m[\u001b[0m\u001b[34;49mnotice\u001b[0m\u001b[1;39;49m]\u001b[0m\u001b[39;49m To update, run: \u001b[0m\u001b[32;49mpython -m pip install --upgrade pip\u001b[0m\n",
      "Note: you may need to restart the kernel to use updated packages.\n"
     ]
    }
   ],
   "source": [
    "pip install statsmodels"
   ]
  },
  {
   "cell_type": "code",
   "execution_count": 41,
   "metadata": {},
   "outputs": [],
   "source": [
    "import scipy.stats\n",
    "import statsmodels.api as sm\n",
    "import os\n",
    "import pandas as pd\n",
    "import numpy as np\n",
    "import stats"
   ]
  },
  {
   "cell_type": "code",
   "execution_count": 28,
   "metadata": {},
   "outputs": [
    {
     "data": {
      "text/html": [
       "<div>\n",
       "<style scoped>\n",
       "    .dataframe tbody tr th:only-of-type {\n",
       "        vertical-align: middle;\n",
       "    }\n",
       "\n",
       "    .dataframe tbody tr th {\n",
       "        vertical-align: top;\n",
       "    }\n",
       "\n",
       "    .dataframe thead th {\n",
       "        text-align: right;\n",
       "    }\n",
       "</style>\n",
       "<table border=\"1\" class=\"dataframe\">\n",
       "  <thead>\n",
       "    <tr style=\"text-align: right;\">\n",
       "      <th></th>\n",
       "      <th>patient_id</th>\n",
       "      <th>visit_date</th>\n",
       "      <th>age</th>\n",
       "      <th>education_level</th>\n",
       "      <th>walking_speed</th>\n",
       "      <th>insurance_type</th>\n",
       "      <th>visit_cost</th>\n",
       "    </tr>\n",
       "  </thead>\n",
       "  <tbody>\n",
       "    <tr>\n",
       "      <th>0</th>\n",
       "      <td>P0001</td>\n",
       "      <td>2020-01-23</td>\n",
       "      <td>34.28</td>\n",
       "      <td>Bachelors</td>\n",
       "      <td>4.40</td>\n",
       "      <td>Private</td>\n",
       "      <td>53.95</td>\n",
       "    </tr>\n",
       "    <tr>\n",
       "      <th>1</th>\n",
       "      <td>P0001</td>\n",
       "      <td>2020-04-16</td>\n",
       "      <td>34.51</td>\n",
       "      <td>Bachelors</td>\n",
       "      <td>4.19</td>\n",
       "      <td>Private</td>\n",
       "      <td>50.70</td>\n",
       "    </tr>\n",
       "    <tr>\n",
       "      <th>2</th>\n",
       "      <td>P0001</td>\n",
       "      <td>2020-07-03</td>\n",
       "      <td>34.72</td>\n",
       "      <td>Bachelors</td>\n",
       "      <td>4.71</td>\n",
       "      <td>Private</td>\n",
       "      <td>46.20</td>\n",
       "    </tr>\n",
       "    <tr>\n",
       "      <th>3</th>\n",
       "      <td>P0001</td>\n",
       "      <td>2020-10-15</td>\n",
       "      <td>35.00</td>\n",
       "      <td>Bachelors</td>\n",
       "      <td>4.86</td>\n",
       "      <td>Private</td>\n",
       "      <td>56.30</td>\n",
       "    </tr>\n",
       "    <tr>\n",
       "      <th>4</th>\n",
       "      <td>P0001</td>\n",
       "      <td>2020-12-29</td>\n",
       "      <td>35.21</td>\n",
       "      <td>Bachelors</td>\n",
       "      <td>4.50</td>\n",
       "      <td>Private</td>\n",
       "      <td>53.70</td>\n",
       "    </tr>\n",
       "  </tbody>\n",
       "</table>\n",
       "</div>"
      ],
      "text/plain": [
       "  patient_id visit_date    age education_level  walking_speed insurance_type  \\\n",
       "0      P0001 2020-01-23  34.28       Bachelors           4.40        Private   \n",
       "1      P0001 2020-04-16  34.51       Bachelors           4.19        Private   \n",
       "2      P0001 2020-07-03  34.72       Bachelors           4.71        Private   \n",
       "3      P0001 2020-10-15  35.00       Bachelors           4.86        Private   \n",
       "4      P0001 2020-12-29  35.21       Bachelors           4.50        Private   \n",
       "\n",
       "   visit_cost  \n",
       "0       53.95  \n",
       "1       50.70  \n",
       "2       46.20  \n",
       "3       56.30  \n",
       "4       53.70  "
      ]
     },
     "execution_count": 28,
     "metadata": {},
     "output_type": "execute_result"
    }
   ],
   "source": [
    "# Set random seed.\n",
    "np.random.seed(42)\n",
    "\n",
    "# Read the processed CSV file.\n",
    "df = pd.read_csv(\"ms_data.csv\")\n",
    "\n",
    "# Convert visit_date to datetime.\n",
    "df['visit_date'] = pd.to_datetime(df['visit_date'])\n",
    "\n",
    "#  Sort by patient_id and visit_date.\n",
    "df = df.sort_values(by = ['patient_id', 'visit_date'])\n",
    "\n",
    "# Read insurance types from `insurance.lst`.\n",
    "with open('insurance.lst', 'r') as f:\n",
    "    insurance_types = [line.strip() for line in f.readlines()]\n",
    "\n",
    "# Randomly assign (but keep consistent per patient_id).\n",
    "unique_patients = df['patient_id'].unique()\n",
    "patient_insurance_map = {patient_id: np.random.choice(insurance_types) for patient_id in unique_patients}\n",
    "df['insurance_type'] = df['patient_id'].map(patient_insurance_map)\n",
    "\n",
    "# Generate visit costs based on insurance type. Different plans have different effects on cost.\n",
    "base_costs = {'Medicare': 100,\n",
    "    'Medicaid': 200,\n",
    "    'Private': 50,\n",
    "    'Other': 500\n",
    "}\n",
    "\n",
    "# Add random variation.\n",
    "variation_factor = 0.2 # 20% variation\n",
    "df['visit_cost'] = df['insurance_type'].map(base_costs) * (1 + np.random.uniform(-variation_factor, variation_factor, len(df))).round(3)\n",
    "\n",
    "# Set appropriate data types.\n",
    "df['patient_id'] = df['patient_id'].astype(str)\n",
    "df['education_level'] = df['education_level'].astype(str)\n",
    "df['insurance_type'] = df['insurance_type'].astype(str)\n",
    "\n",
    "df.head()"
   ]
  },
  {
   "cell_type": "code",
   "execution_count": 32,
   "metadata": {},
   "outputs": [
    {
     "name": "stdout",
     "output_type": "stream",
     "text": [
      "patient_id                 object\n",
      "visit_date         datetime64[ns]\n",
      "age                       float64\n",
      "education_level            object\n",
      "walking_speed             float64\n",
      "insurance_type             object\n",
      "visit_cost                float64\n",
      "dtype: object\n",
      "Number of missing values in each column: patient_id         0\n",
      "visit_date         0\n",
      "age                0\n",
      "education_level    0\n",
      "walking_speed      0\n",
      "insurance_type     0\n",
      "visit_cost         0\n",
      "dtype: int64\n",
      "Number of rows with at least one missing value: 0\n"
     ]
    }
   ],
   "source": [
    "df['visit_date'] = pd.to_datetime(df['visit_date'])\n",
    "df['patient_id'] = df['patient_id'].astype(str)\n",
    "df['education_level'] = df['education_level'].astype(str)\n",
    "df['age'] = df['age'].astype(float)\n",
    "df['walking_speed'] = df['walking_speed'].astype(float)\n",
    "df['visit_cost'] = df['visit_cost'].astype(float)\n",
    "\n",
    "print(df.dtypes)\n",
    "\n",
    "print(f\"Number of missing values in each column: {df.isnull().sum()}\")\n",
    "print(f\"Number of rows with at least one missing value: {df.isnull().any(axis=1).sum()}\")"
   ]
  },
  {
   "cell_type": "code",
   "execution_count": 33,
   "metadata": {},
   "outputs": [
    {
     "name": "stdout",
     "output_type": "stream",
     "text": [
      "                            OLS Regression Results                            \n",
      "==============================================================================\n",
      "Dep. Variable:          walking_speed   R-squared:                       0.807\n",
      "Model:                            OLS   Adj. R-squared:                  0.807\n",
      "Method:                 Least Squares   F-statistic:                 1.613e+04\n",
      "Date:                Tue, 12 Nov 2024   Prob (F-statistic):               0.00\n",
      "Time:                        20:54:58   Log-Likelihood:                -5411.7\n",
      "No. Observations:               15431   AIC:                         1.083e+04\n",
      "Df Residuals:                   15426   BIC:                         1.087e+04\n",
      "Df Model:                           4                                         \n",
      "Covariance Type:            nonrobust                                         \n",
      "================================================================================\n",
      "                   coef    std err          t      P>|t|      [0.025      0.975]\n",
      "--------------------------------------------------------------------------------\n",
      "const            5.5992      0.009    601.362      0.000       5.581       5.617\n",
      "Graduate         0.4152      0.008     53.630      0.000       0.400       0.430\n",
      "High School     -0.7923      0.008   -101.812      0.000      -0.808      -0.777\n",
      "Some College    -0.3903      0.008    -50.862      0.000      -0.405      -0.375\n",
      "age             -0.0301      0.000   -195.245      0.000      -0.030      -0.030\n",
      "==============================================================================\n",
      "Omnibus:                        7.060   Durbin-Watson:                   1.868\n",
      "Prob(Omnibus):                  0.029   Jarque-Bera (JB):                6.668\n",
      "Skew:                           0.023   Prob(JB):                       0.0357\n",
      "Kurtosis:                       2.909   Cond. No.                         238.\n",
      "==============================================================================\n",
      "\n",
      "Notes:\n",
      "[1] Standard Errors assume that the covariance matrix of the errors is correctly specified.\n"
     ]
    }
   ],
   "source": [
    "# 1. Analyze walking speed:\n",
    "#    - Multiple regression with education and age (report coeffcients and confidence intervals)\n",
    "#    - Account for repeated measures\n",
    "#    - Test for significant trends\n",
    "\n",
    "# Prepare the data for a simple multiple regression with age and education_level as predictors\n",
    "X = df[['age']]\n",
    "X = pd.get_dummies(df['education_level'], drop_first=True).join(X)  # Convert education_level to dummy variables\n",
    "X = sm.add_constant(X)  # Add intercept\n",
    "\n",
    "### print(X.dtypes)\n",
    "### print(X.head())\n",
    "\n",
    "y = df['walking_speed']\n",
    "\n",
    "# Ensure that X and y are purely numeric arrays\n",
    "X = X.astype(float) \n",
    "y = y.astype(float)\n",
    "\n",
    "# Fit an OLS model\n",
    "est = sm.OLS(y, X).fit()\n",
    "\n",
    "# Display the summary of the model\n",
    "print(est.summary())"
   ]
  },
  {
   "cell_type": "code",
   "execution_count": 35,
   "metadata": {},
   "outputs": [
    {
     "name": "stdout",
     "output_type": "stream",
     "text": [
      "const           5.599189\n",
      "Graduate        0.415243\n",
      "High School    -0.792317\n",
      "Some College   -0.390325\n",
      "age            -0.030138\n",
      "dtype: float64\n",
      "0.8069989763375707\n",
      "const           0.0\n",
      "Graduate        0.0\n",
      "High School     0.0\n",
      "Some College    0.0\n",
      "age             0.0\n",
      "dtype: float64\n",
      "                     0         1\n",
      "const         5.580939  5.617440\n",
      "Graduate      0.400066  0.430419\n",
      "High School  -0.807571 -0.777063\n",
      "Some College -0.405367 -0.375283\n",
      "age          -0.030441 -0.029836\n"
     ]
    }
   ],
   "source": [
    "print(est.params) # Coefficients \n",
    "print(est.rsquared) # R-squared \n",
    "print(est.pvalues) # P-values\n",
    "print(est.conf_int()) # Confidence Intervals"
   ]
  },
  {
   "cell_type": "code",
   "execution_count": 44,
   "metadata": {},
   "outputs": [
    {
     "name": "stdout",
     "output_type": "stream",
     "text": [
      "\n",
      "Correlation between age and walking speed: -0.700\n",
      "P-value: 0\n",
      "The correlation is statistically significant.\n"
     ]
    }
   ],
   "source": [
    "# Test for significant correlation between age and walking speed\n",
    "correlation, p_value = scipy.stats.pearsonr(df['age'], df['walking_speed'])\n",
    "print(f\"\\nCorrelation between age and walking speed: {correlation:.3f}\")\n",
    "print(f\"P-value: {p_value:.3g}\")\n",
    "\n",
    "if p_value < 0.05:\n",
    "    print(\"The correlation is statistically significant.\")\n",
    "else:\n",
    "    print(\"The correlation is not statistically significant.\")"
   ]
  },
  {
   "cell_type": "code",
   "execution_count": null,
   "metadata": {},
   "outputs": [],
   "source": [
    "# 2. Analyze costs:\n",
    "#    - Simple analysis of insurance type effect\n",
    "#    - Box plots and basic statistics (report coeffcients and confidence intervals)\n",
    "#    - Calculate effect sizes"
   ]
  },
  {
   "cell_type": "code",
   "execution_count": null,
   "metadata": {},
   "outputs": [],
   "source": [
    "# 3. Advanced analysis:\n",
    "#    - Education age interaction effects on walking speed\n",
    "#    - Control for relevant confounders\n",
    "#    - Report key statistics and p-values (report coeffcients and confidence intervals)"
   ]
  }
 ],
 "metadata": {
  "kernelspec": {
   "display_name": "Python 3",
   "language": "python",
   "name": "python3"
  },
  "language_info": {
   "codemirror_mode": {
    "name": "ipython",
    "version": 3
   },
   "file_extension": ".py",
   "mimetype": "text/x-python",
   "name": "python",
   "nbconvert_exporter": "python",
   "pygments_lexer": "ipython3",
   "version": "3.12.1"
  }
 },
 "nbformat": 4,
 "nbformat_minor": 2
}
