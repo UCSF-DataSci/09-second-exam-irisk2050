{
 "cells": [
  {
   "cell_type": "code",
   "execution_count": null,
   "metadata": {
    "vscode": {
     "languageId": "plaintext"
    }
   },
   "outputs": [],
   "source": []
  },
  {
   "cell_type": "markdown",
   "metadata": {},
   "source": [
    "Create visualizations for both walking speed and cost analyses in a Jupyter notebook:\n",
    "\n",
    "1. Walking speed analysis:\n",
    "   - Scatter plot of age vs walking speed with regression line\n",
    "   - Box plots by education level\n",
    "   - Line plot showing education age interaction"
   ]
  },
  {
   "cell_type": "code",
   "execution_count": null,
   "metadata": {
    "vscode": {
     "languageId": "plaintext"
    }
   },
   "outputs": [],
   "source": []
  },
  {
   "cell_type": "markdown",
   "metadata": {},
   "source": [
    "Create visualizations for both walking speed and cost analyses in a Jupyter notebook:\n",
    "\n",
    "2. Cost analysis:\n",
    "   - Bar plot of mean costs by insurance type\n",
    "   - Box plots showing cost distributions\n",
    "   - Add error bars or confidence intervals"
   ]
  },
  {
   "cell_type": "code",
   "execution_count": null,
   "metadata": {
    "vscode": {
     "languageId": "plaintext"
    }
   },
   "outputs": [],
   "source": []
  },
  {
   "cell_type": "markdown",
   "metadata": {},
   "source": [
    "Create visualizations for both walking speed and cost analyses in a Jupyter notebook:\n",
    "\n",
    "3. Combined visualizations:\n",
    "   - Pair plot of key variables\n",
    "   - Faceted plots by education/insurance\n",
    "   - Time trends where relevant"
   ]
  }
 ],
 "metadata": {
  "language_info": {
   "name": "python"
  }
 },
 "nbformat": 4,
 "nbformat_minor": 2
}
