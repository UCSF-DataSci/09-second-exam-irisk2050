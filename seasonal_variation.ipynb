{
 "cells": [
  {
   "cell_type": "code",
   "execution_count": 1,
   "metadata": {},
   "outputs": [],
   "source": [
    "import os\n",
    "import pandas as pd\n",
    "import numpy as np\n",
    "from statsmodels.tsa.seasonal import seasonal_decompose\n",
    "\n",
    "# Set random seed.\n",
    "np.random.seed(42)\n",
    "\n",
    "\n",
    "\n",
    "# Q2\n",
    "\n",
    "\n",
    "\n",
    "# Q2.1: Load and structure the data.\n",
    "\n",
    "# Read the processed CSV file.\n",
    "df = pd.read_csv(\"ms_data.csv\")\n",
    "\n",
    "# Convert visit_date to datetime.\n",
    "df['visit_date'] = pd.to_datetime(df['visit_date'])\n",
    "\n",
    "#  Sort by patient_id and visit_date.\n",
    "df = df.sort_values(by = ['patient_id', 'visit_date'])\n",
    "\n",
    "# Q2.2: Add insurance information.\n",
    "\n",
    "# Read insurance types from `insurance.lst`.\n",
    "with open('insurance.lst', 'r') as f:\n",
    "    insurance_types = [line.strip() for line in f.readlines()]\n",
    "\n",
    "# Randomly assign (but keep consistent per patient_id).\n",
    "unique_patients = df['patient_id'].unique()\n",
    "patient_insurance_map = {patient_id: np.random.choice(insurance_types) for patient_id in unique_patients}\n",
    "df['insurance_type'] = df['patient_id'].map(patient_insurance_map)\n",
    "\n",
    "# Generate visit costs based on insurance type. Different plans have different effects on cost.\n",
    "base_costs = {'Medicare': 100,\n",
    "    'Medicaid': 200,\n",
    "    'Private': 50,\n",
    "    'Other': 500\n",
    "}\n",
    "\n",
    "# Add random variation.\n",
    "variation_factor = 0.2 # 20% variation\n",
    "df['visit_cost'] = df['insurance_type'].map(base_costs) * (1 + np.random.uniform(-variation_factor, variation_factor, len(df))).round(3)\n",
    "\n",
    "# Set appropriate data types.\n",
    "## print(df.dtypes)\n",
    "df['patient_id'] = df['patient_id'].astype(str)\n",
    "df['education_level'] = df['education_level'].astype(str)\n",
    "df['insurance_type'] = df['insurance_type'].astype(str)"
   ]
  },
  {
   "cell_type": "code",
   "execution_count": null,
   "metadata": {},
   "outputs": [],
   "source": [
    "# Q2.3: Calculate summary statistics.\n",
    "\n",
    "# Consider seasonal variations in the data.\n",
    "\n"
   ]
  }
 ],
 "metadata": {
  "kernelspec": {
   "display_name": "Python 3",
   "language": "python",
   "name": "python3"
  },
  "language_info": {
   "codemirror_mode": {
    "name": "ipython",
    "version": 3
   },
   "file_extension": ".py",
   "mimetype": "text/x-python",
   "name": "python",
   "nbconvert_exporter": "python",
   "pygments_lexer": "ipython3",
   "version": "3.12.1"
  }
 },
 "nbformat": 4,
 "nbformat_minor": 2
}
